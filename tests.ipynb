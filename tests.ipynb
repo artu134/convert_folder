{
 "cells": [
  {
   "cell_type": "code",
   "execution_count": 6,
   "metadata": {},
   "outputs": [],
   "source": [
    "import pandas \n",
    "from pandas import DataFrame\n",
    "import pyntcloud \n",
    "from pyntcloud import PyntCloud\n",
    "\n",
    "# How to load file to the pyntcloud \n",
    "cloud = PyntCloud.from_file(\".\\\\database\\\\33311998.2.ply\")\n",
    "cloud.points.to_csv(\"file.csv\", index=False) # this is how to save it to the .csv\n",
    "\n"
   ]
  },
  {
   "cell_type": "code",
   "execution_count": 8,
   "metadata": {},
   "outputs": [],
   "source": [
    "import glob\n",
    "from pathlib import Path\n",
    "\n",
    "#Test code how to save whole directory of .ply to csv  \n",
    "path = '.\\\\database\\\\'\n",
    "path_to_save = '.\\\\database_csv\\\\'\n",
    "csv = \".csv\"\n",
    "\n",
    "for file in glob.glob(path + \"*.ply\"):\n",
    "    cloud = PyntCloud.from_file(file)\n",
    "    file_path = Path(file)\n",
    "    file_name = file_path.stem\n",
    "    cloud.points.to_csv(f\"{path_to_save}{file_name}{csv}\", index=False)\n",
    "\n"
   ]
  }
 ],
 "metadata": {
  "kernelspec": {
   "display_name": "convert",
   "language": "python",
   "name": "python3"
  },
  "language_info": {
   "codemirror_mode": {
    "name": "ipython",
    "version": 3
   },
   "file_extension": ".py",
   "mimetype": "text/x-python",
   "name": "python",
   "nbconvert_exporter": "python",
   "pygments_lexer": "ipython3",
   "version": "3.11.2"
  },
  "orig_nbformat": 4,
  "vscode": {
   "interpreter": {
    "hash": "11f4dd68c59b60812f46a9355e95273570968b484ca2dbd7b15d4fe8f3b155d5"
   }
  }
 },
 "nbformat": 4,
 "nbformat_minor": 2
}
